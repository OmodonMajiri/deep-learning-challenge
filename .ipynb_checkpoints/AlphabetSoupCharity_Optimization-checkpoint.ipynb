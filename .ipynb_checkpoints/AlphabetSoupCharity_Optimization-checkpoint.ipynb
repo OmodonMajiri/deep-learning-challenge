{
 "cells": [
  {
   "cell_type": "markdown",
   "metadata": {},
   "source": [
    "## Preprocessing"
   ]
  },
  {
   "cell_type": "code",
   "execution_count": 1,
   "metadata": {},
   "outputs": [
    {
     "data": {
      "text/html": [
       "<div>\n",
       "<style scoped>\n",
       "    .dataframe tbody tr th:only-of-type {\n",
       "        vertical-align: middle;\n",
       "    }\n",
       "\n",
       "    .dataframe tbody tr th {\n",
       "        vertical-align: top;\n",
       "    }\n",
       "\n",
       "    .dataframe thead th {\n",
       "        text-align: right;\n",
       "    }\n",
       "</style>\n",
       "<table border=\"1\" class=\"dataframe\">\n",
       "  <thead>\n",
       "    <tr style=\"text-align: right;\">\n",
       "      <th></th>\n",
       "      <th>EIN</th>\n",
       "      <th>NAME</th>\n",
       "      <th>APPLICATION_TYPE</th>\n",
       "      <th>AFFILIATION</th>\n",
       "      <th>CLASSIFICATION</th>\n",
       "      <th>USE_CASE</th>\n",
       "      <th>ORGANIZATION</th>\n",
       "      <th>STATUS</th>\n",
       "      <th>INCOME_AMT</th>\n",
       "      <th>SPECIAL_CONSIDERATIONS</th>\n",
       "      <th>ASK_AMT</th>\n",
       "      <th>IS_SUCCESSFUL</th>\n",
       "    </tr>\n",
       "  </thead>\n",
       "  <tbody>\n",
       "    <tr>\n",
       "      <th>0</th>\n",
       "      <td>10520599</td>\n",
       "      <td>BLUE KNIGHTS MOTORCYCLE CLUB</td>\n",
       "      <td>T10</td>\n",
       "      <td>Independent</td>\n",
       "      <td>C1000</td>\n",
       "      <td>ProductDev</td>\n",
       "      <td>Association</td>\n",
       "      <td>1</td>\n",
       "      <td>0</td>\n",
       "      <td>N</td>\n",
       "      <td>5000</td>\n",
       "      <td>1</td>\n",
       "    </tr>\n",
       "    <tr>\n",
       "      <th>1</th>\n",
       "      <td>10531628</td>\n",
       "      <td>AMERICAN CHESAPEAKE CLUB CHARITABLE TR</td>\n",
       "      <td>T3</td>\n",
       "      <td>Independent</td>\n",
       "      <td>C2000</td>\n",
       "      <td>Preservation</td>\n",
       "      <td>Co-operative</td>\n",
       "      <td>1</td>\n",
       "      <td>1-9999</td>\n",
       "      <td>N</td>\n",
       "      <td>108590</td>\n",
       "      <td>1</td>\n",
       "    </tr>\n",
       "    <tr>\n",
       "      <th>2</th>\n",
       "      <td>10547893</td>\n",
       "      <td>ST CLOUD PROFESSIONAL FIREFIGHTERS</td>\n",
       "      <td>T5</td>\n",
       "      <td>CompanySponsored</td>\n",
       "      <td>C3000</td>\n",
       "      <td>ProductDev</td>\n",
       "      <td>Association</td>\n",
       "      <td>1</td>\n",
       "      <td>0</td>\n",
       "      <td>N</td>\n",
       "      <td>5000</td>\n",
       "      <td>0</td>\n",
       "    </tr>\n",
       "    <tr>\n",
       "      <th>3</th>\n",
       "      <td>10553066</td>\n",
       "      <td>SOUTHSIDE ATHLETIC ASSOCIATION</td>\n",
       "      <td>T3</td>\n",
       "      <td>CompanySponsored</td>\n",
       "      <td>C2000</td>\n",
       "      <td>Preservation</td>\n",
       "      <td>Trust</td>\n",
       "      <td>1</td>\n",
       "      <td>10000-24999</td>\n",
       "      <td>N</td>\n",
       "      <td>6692</td>\n",
       "      <td>1</td>\n",
       "    </tr>\n",
       "    <tr>\n",
       "      <th>4</th>\n",
       "      <td>10556103</td>\n",
       "      <td>GENETIC RESEARCH INSTITUTE OF THE DESERT</td>\n",
       "      <td>T3</td>\n",
       "      <td>Independent</td>\n",
       "      <td>C1000</td>\n",
       "      <td>Heathcare</td>\n",
       "      <td>Trust</td>\n",
       "      <td>1</td>\n",
       "      <td>100000-499999</td>\n",
       "      <td>N</td>\n",
       "      <td>142590</td>\n",
       "      <td>1</td>\n",
       "    </tr>\n",
       "  </tbody>\n",
       "</table>\n",
       "</div>"
      ],
      "text/plain": [
       "        EIN                                      NAME APPLICATION_TYPE  \\\n",
       "0  10520599              BLUE KNIGHTS MOTORCYCLE CLUB              T10   \n",
       "1  10531628    AMERICAN CHESAPEAKE CLUB CHARITABLE TR               T3   \n",
       "2  10547893        ST CLOUD PROFESSIONAL FIREFIGHTERS               T5   \n",
       "3  10553066            SOUTHSIDE ATHLETIC ASSOCIATION               T3   \n",
       "4  10556103  GENETIC RESEARCH INSTITUTE OF THE DESERT               T3   \n",
       "\n",
       "        AFFILIATION CLASSIFICATION      USE_CASE  ORGANIZATION  STATUS  \\\n",
       "0       Independent          C1000    ProductDev   Association       1   \n",
       "1       Independent          C2000  Preservation  Co-operative       1   \n",
       "2  CompanySponsored          C3000    ProductDev   Association       1   \n",
       "3  CompanySponsored          C2000  Preservation         Trust       1   \n",
       "4       Independent          C1000     Heathcare         Trust       1   \n",
       "\n",
       "      INCOME_AMT SPECIAL_CONSIDERATIONS  ASK_AMT  IS_SUCCESSFUL  \n",
       "0              0                      N     5000              1  \n",
       "1         1-9999                      N   108590              1  \n",
       "2              0                      N     5000              0  \n",
       "3    10000-24999                      N     6692              1  \n",
       "4  100000-499999                      N   142590              1  "
      ]
     },
     "execution_count": 1,
     "metadata": {},
     "output_type": "execute_result"
    }
   ],
   "source": [
    "# Import our dependencies\n",
    "from sklearn.model_selection import train_test_split\n",
    "from sklearn.preprocessing import StandardScaler\n",
    "import pandas as pd\n",
    "import matplotlib as plt\n",
    "import tensorflow as tf\n",
    "import tensorflow.keras as keras\n",
    "\n",
    "#  Import and read the charity_data.csv.\n",
    "import pandas as pd \n",
    "application_df = pd.read_csv(\"Resources/charity_data.csv\")\n",
    "application_df.head()"
   ]
  },
  {
   "cell_type": "code",
   "execution_count": 2,
   "metadata": {},
   "outputs": [
    {
     "data": {
      "text/plain": [
       "EIN                       0\n",
       "NAME                      0\n",
       "APPLICATION_TYPE          0\n",
       "AFFILIATION               0\n",
       "CLASSIFICATION            0\n",
       "USE_CASE                  0\n",
       "ORGANIZATION              0\n",
       "STATUS                    0\n",
       "INCOME_AMT                0\n",
       "SPECIAL_CONSIDERATIONS    0\n",
       "ASK_AMT                   0\n",
       "IS_SUCCESSFUL             0\n",
       "dtype: int64"
      ]
     },
     "execution_count": 2,
     "metadata": {},
     "output_type": "execute_result"
    }
   ],
   "source": [
    "# Drop the non-beneficial ID columns, 'EIN' and 'NAME'.\n",
    "application_df = application_df.drop(['EIN', 'NAME'], axis=1)\n",
    "application_df.head()"
   ]
  },
  {
   "cell_type": "code",
   "execution_count": 3,
   "metadata": {},
   "outputs": [
    {
     "data": {
      "text/plain": [
       "0"
      ]
     },
     "execution_count": 3,
     "metadata": {},
     "output_type": "execute_result"
    }
   ],
   "source": [
    "# Look at APPLICATION_TYPE value counts for binning\n",
    "application_df['APPLICATION_TYPE'].value_counts()"
   ]
  },
  {
   "cell_type": "code",
   "execution_count": 4,
   "metadata": {},
   "outputs": [
    {
     "name": "stdout",
     "output_type": "stream",
     "text": [
      "EIN 34299\n",
      "NAME 19568\n",
      "APPLICATION_TYPE 17\n",
      "AFFILIATION 6\n",
      "CLASSIFICATION 71\n",
      "USE_CASE 5\n",
      "ORGANIZATION 4\n",
      "STATUS 2\n",
      "INCOME_AMT 9\n",
      "SPECIAL_CONSIDERATIONS 2\n",
      "ASK_AMT 8747\n",
      "IS_SUCCESSFUL 2\n"
     ]
    }
   ],
   "source": [
    "# Choose a cutoff value and create a list of application types to be replaced\n",
    "# use the variable name `application_types_to_replace`\n",
    "application_types_to_replace = application_df['APPLICATION_TYPE'].value_counts().loc[lambda x : x < 500].index.tolist()\n",
    "\n",
    "# Replace in dataframe\n",
    "for app in application_types_to_replace:\n",
    "    application_df['APPLICATION_TYPE'] = application_df['APPLICATION_TYPE'].replace(app,\"Other\")\n",
    "\n",
    "# Check to make sure binning was successful\n",
    "application_df['APPLICATION_TYPE'].value_counts()\n"
   ]
  },
  {
   "cell_type": "code",
   "execution_count": 5,
   "metadata": {},
   "outputs": [
    {
     "data": {
      "text/plain": [
       "T3     27037\n",
       "T4      1542\n",
       "T6      1216\n",
       "T5      1173\n",
       "T19     1065\n",
       "T8       737\n",
       "T7       725\n",
       "T10      528\n",
       "T9       156\n",
       "T13       66\n",
       "T12       27\n",
       "T2        16\n",
       "T25        3\n",
       "T14        3\n",
       "T29        2\n",
       "T15        2\n",
       "T17        1\n",
       "Name: APPLICATION_TYPE, dtype: int64"
      ]
     },
     "execution_count": 5,
     "metadata": {},
     "output_type": "execute_result"
    }
   ],
   "source": [
    "# Look at CLASSIFICATION value counts for binning\n",
    "application_df['CLASSIFICATION'].value_counts()"
   ]
  },
  {
   "cell_type": "code",
   "execution_count": 6,
   "metadata": {},
   "outputs": [
    {
     "data": {
      "text/plain": [
       "T3       27037\n",
       "T4        1542\n",
       "T6        1216\n",
       "T5        1173\n",
       "T19       1065\n",
       "T8         737\n",
       "T7         725\n",
       "T10        528\n",
       "Other      276\n",
       "Name: APPLICATION_TYPE, dtype: int64"
      ]
     },
     "execution_count": 6,
     "metadata": {},
     "output_type": "execute_result"
    }
   ],
   "source": [
    "# You may find it helpful to look at CLASSIFICATION value counts >1\n",
    "application_df['CLASSIFICATION'].value_counts().loc[lambda x : x > 1]"
   ]
  },
  {
   "cell_type": "code",
   "execution_count": 7,
   "metadata": {},
   "outputs": [],
   "source": [
    "# Choose a cutoff value and create a list of classifications to be replaced\n",
    "# use the variable name `classifications_to_replace`\n",
    "classifications_to_replace = application_df['CLASSIFICATION'].value_counts().loc[lambda x : x < 1800].index.tolist()\n",
    "\n",
    "# Replace in dataframe\n",
    "for cls in classifications_to_replace:\n",
    "    application_df['CLASSIFICATION'] = application_df['CLASSIFICATION'].replace(cls,\"Other\")\n",
    "    \n",
    "# Check to make sure binning was successful\n",
    "application_df['CLASSIFICATION'].value_counts()"
   ]
  },
  {
   "cell_type": "code",
   "execution_count": 8,
   "metadata": {},
   "outputs": [
    {
     "data": {
      "text/plain": [
       "C1000    17326\n",
       "C2000     6074\n",
       "C1200     4837\n",
       "C3000     1918\n",
       "C2100     1883\n",
       "C7000      777\n",
       "C1700      287\n",
       "C4000      194\n",
       "C5000      116\n",
       "C1270      114\n",
       "C2700      104\n",
       "C2800       95\n",
       "C7100       75\n",
       "C1300       58\n",
       "C1280       50\n",
       "C1230       36\n",
       "C1400       34\n",
       "C7200       32\n",
       "C2300       32\n",
       "C1240       30\n",
       "C8000       20\n",
       "C7120       18\n",
       "C1500       16\n",
       "C1800       15\n",
       "C6000       15\n",
       "C1250       14\n",
       "C8200       11\n",
       "C1238       10\n",
       "C1278       10\n",
       "C1235        9\n",
       "C1237        9\n",
       "C7210        7\n",
       "C2400        6\n",
       "C1720        6\n",
       "C4100        6\n",
       "C1257        5\n",
       "C1600        5\n",
       "C1260        3\n",
       "C2710        3\n",
       "C0           3\n",
       "C3200        2\n",
       "C1234        2\n",
       "C1246        2\n",
       "C1267        2\n",
       "C1256        2\n",
       "Name: CLASSIFICATION, dtype: int64"
      ]
     },
     "execution_count": 8,
     "metadata": {},
     "output_type": "execute_result"
    }
   ],
   "source": [
    "# Convert categorical data to numeric with `pd.get_dummies`\n",
    "application_dum_df = pd.get_dummies(application_df)\n",
    "application_dum_df.head()"
   ]
  },
  {
   "cell_type": "code",
   "execution_count": 9,
   "metadata": {},
   "outputs": [
    {
     "data": {
      "text/plain": [
       "C1000    17326\n",
       "C2000     6074\n",
       "C1200     4837\n",
       "Other     2261\n",
       "C3000     1918\n",
       "C2100     1883\n",
       "Name: CLASSIFICATION, dtype: int64"
      ]
     },
     "execution_count": 9,
     "metadata": {},
     "output_type": "execute_result"
    }
   ],
   "source": [
    "# Split our preprocessed data into our features and target arrays\n",
    "X = application_dum_df.drop(['IS_SUCCESSFUL'], axis=1)\n",
    "y = application_dum_df['IS_SUCCESSFUL']\n",
    "\n",
    "# Split the preprocessed data into a training and testing dataset\n",
    "X_train, X_test, y_train, y_test = train_test_split(X, y, random_state=42)"
   ]
  },
  {
   "cell_type": "code",
   "execution_count": 10,
   "metadata": {},
   "outputs": [
    {
     "data": {
      "text/html": [
       "<div>\n",
       "<style scoped>\n",
       "    .dataframe tbody tr th:only-of-type {\n",
       "        vertical-align: middle;\n",
       "    }\n",
       "\n",
       "    .dataframe tbody tr th {\n",
       "        vertical-align: top;\n",
       "    }\n",
       "\n",
       "    .dataframe thead th {\n",
       "        text-align: right;\n",
       "    }\n",
       "</style>\n",
       "<table border=\"1\" class=\"dataframe\">\n",
       "  <thead>\n",
       "    <tr style=\"text-align: right;\">\n",
       "      <th></th>\n",
       "      <th>EIN</th>\n",
       "      <th>STATUS</th>\n",
       "      <th>ASK_AMT</th>\n",
       "      <th>IS_SUCCESSFUL</th>\n",
       "      <th>NAME_1 DAY RANCH RESCUE AND RURAL OKLAHOMA ANIMAL RESOURCE INC</th>\n",
       "      <th>NAME_100 BLACK MEN OF AMERICA</th>\n",
       "      <th>NAME_100 BLACK MEN OF MEMPHIS INC</th>\n",
       "      <th>NAME_100 BLACK MEN OF WEST GEORGIA INC</th>\n",
       "      <th>NAME_1150 WEBSTER STREET INC</th>\n",
       "      <th>NAME_116TH CAVALRY REGIMENT CHAPTER OF THE US CAVALRY &amp; ARMOR ASSOCIATION</th>\n",
       "      <th>...</th>\n",
       "      <th>INCOME_AMT_1-9999</th>\n",
       "      <th>INCOME_AMT_10000-24999</th>\n",
       "      <th>INCOME_AMT_100000-499999</th>\n",
       "      <th>INCOME_AMT_10M-50M</th>\n",
       "      <th>INCOME_AMT_1M-5M</th>\n",
       "      <th>INCOME_AMT_25000-99999</th>\n",
       "      <th>INCOME_AMT_50M+</th>\n",
       "      <th>INCOME_AMT_5M-10M</th>\n",
       "      <th>SPECIAL_CONSIDERATIONS_N</th>\n",
       "      <th>SPECIAL_CONSIDERATIONS_Y</th>\n",
       "    </tr>\n",
       "  </thead>\n",
       "  <tbody>\n",
       "    <tr>\n",
       "      <th>0</th>\n",
       "      <td>10520599</td>\n",
       "      <td>1</td>\n",
       "      <td>5000</td>\n",
       "      <td>1</td>\n",
       "      <td>0</td>\n",
       "      <td>0</td>\n",
       "      <td>0</td>\n",
       "      <td>0</td>\n",
       "      <td>0</td>\n",
       "      <td>0</td>\n",
       "      <td>...</td>\n",
       "      <td>0</td>\n",
       "      <td>0</td>\n",
       "      <td>0</td>\n",
       "      <td>0</td>\n",
       "      <td>0</td>\n",
       "      <td>0</td>\n",
       "      <td>0</td>\n",
       "      <td>0</td>\n",
       "      <td>1</td>\n",
       "      <td>0</td>\n",
       "    </tr>\n",
       "    <tr>\n",
       "      <th>1</th>\n",
       "      <td>10531628</td>\n",
       "      <td>1</td>\n",
       "      <td>108590</td>\n",
       "      <td>1</td>\n",
       "      <td>0</td>\n",
       "      <td>0</td>\n",
       "      <td>0</td>\n",
       "      <td>0</td>\n",
       "      <td>0</td>\n",
       "      <td>0</td>\n",
       "      <td>...</td>\n",
       "      <td>1</td>\n",
       "      <td>0</td>\n",
       "      <td>0</td>\n",
       "      <td>0</td>\n",
       "      <td>0</td>\n",
       "      <td>0</td>\n",
       "      <td>0</td>\n",
       "      <td>0</td>\n",
       "      <td>1</td>\n",
       "      <td>0</td>\n",
       "    </tr>\n",
       "    <tr>\n",
       "      <th>2</th>\n",
       "      <td>10547893</td>\n",
       "      <td>1</td>\n",
       "      <td>5000</td>\n",
       "      <td>0</td>\n",
       "      <td>0</td>\n",
       "      <td>0</td>\n",
       "      <td>0</td>\n",
       "      <td>0</td>\n",
       "      <td>0</td>\n",
       "      <td>0</td>\n",
       "      <td>...</td>\n",
       "      <td>0</td>\n",
       "      <td>0</td>\n",
       "      <td>0</td>\n",
       "      <td>0</td>\n",
       "      <td>0</td>\n",
       "      <td>0</td>\n",
       "      <td>0</td>\n",
       "      <td>0</td>\n",
       "      <td>1</td>\n",
       "      <td>0</td>\n",
       "    </tr>\n",
       "    <tr>\n",
       "      <th>3</th>\n",
       "      <td>10553066</td>\n",
       "      <td>1</td>\n",
       "      <td>6692</td>\n",
       "      <td>1</td>\n",
       "      <td>0</td>\n",
       "      <td>0</td>\n",
       "      <td>0</td>\n",
       "      <td>0</td>\n",
       "      <td>0</td>\n",
       "      <td>0</td>\n",
       "      <td>...</td>\n",
       "      <td>0</td>\n",
       "      <td>1</td>\n",
       "      <td>0</td>\n",
       "      <td>0</td>\n",
       "      <td>0</td>\n",
       "      <td>0</td>\n",
       "      <td>0</td>\n",
       "      <td>0</td>\n",
       "      <td>1</td>\n",
       "      <td>0</td>\n",
       "    </tr>\n",
       "    <tr>\n",
       "      <th>4</th>\n",
       "      <td>10556103</td>\n",
       "      <td>1</td>\n",
       "      <td>142590</td>\n",
       "      <td>1</td>\n",
       "      <td>0</td>\n",
       "      <td>0</td>\n",
       "      <td>0</td>\n",
       "      <td>0</td>\n",
       "      <td>0</td>\n",
       "      <td>0</td>\n",
       "      <td>...</td>\n",
       "      <td>0</td>\n",
       "      <td>0</td>\n",
       "      <td>1</td>\n",
       "      <td>0</td>\n",
       "      <td>0</td>\n",
       "      <td>0</td>\n",
       "      <td>0</td>\n",
       "      <td>0</td>\n",
       "      <td>1</td>\n",
       "      <td>0</td>\n",
       "    </tr>\n",
       "  </tbody>\n",
       "</table>\n",
       "<p>5 rows × 19613 columns</p>\n",
       "</div>"
      ],
      "text/plain": [
       "        EIN  STATUS  ASK_AMT  IS_SUCCESSFUL  \\\n",
       "0  10520599       1     5000              1   \n",
       "1  10531628       1   108590              1   \n",
       "2  10547893       1     5000              0   \n",
       "3  10553066       1     6692              1   \n",
       "4  10556103       1   142590              1   \n",
       "\n",
       "   NAME_1 DAY RANCH RESCUE AND RURAL OKLAHOMA ANIMAL RESOURCE INC  \\\n",
       "0                                                  0                \n",
       "1                                                  0                \n",
       "2                                                  0                \n",
       "3                                                  0                \n",
       "4                                                  0                \n",
       "\n",
       "   NAME_100 BLACK MEN OF AMERICA  NAME_100 BLACK MEN OF MEMPHIS INC  \\\n",
       "0                              0                                  0   \n",
       "1                              0                                  0   \n",
       "2                              0                                  0   \n",
       "3                              0                                  0   \n",
       "4                              0                                  0   \n",
       "\n",
       "   NAME_100 BLACK MEN OF WEST GEORGIA INC  NAME_1150 WEBSTER STREET INC  \\\n",
       "0                                       0                             0   \n",
       "1                                       0                             0   \n",
       "2                                       0                             0   \n",
       "3                                       0                             0   \n",
       "4                                       0                             0   \n",
       "\n",
       "   NAME_116TH CAVALRY REGIMENT CHAPTER OF THE US CAVALRY & ARMOR ASSOCIATION  \\\n",
       "0                                                  0                           \n",
       "1                                                  0                           \n",
       "2                                                  0                           \n",
       "3                                                  0                           \n",
       "4                                                  0                           \n",
       "\n",
       "   ...  INCOME_AMT_1-9999  INCOME_AMT_10000-24999  INCOME_AMT_100000-499999  \\\n",
       "0  ...                  0                       0                         0   \n",
       "1  ...                  1                       0                         0   \n",
       "2  ...                  0                       0                         0   \n",
       "3  ...                  0                       1                         0   \n",
       "4  ...                  0                       0                         1   \n",
       "\n",
       "   INCOME_AMT_10M-50M  INCOME_AMT_1M-5M  INCOME_AMT_25000-99999  \\\n",
       "0                   0                 0                       0   \n",
       "1                   0                 0                       0   \n",
       "2                   0                 0                       0   \n",
       "3                   0                 0                       0   \n",
       "4                   0                 0                       0   \n",
       "\n",
       "   INCOME_AMT_50M+  INCOME_AMT_5M-10M  SPECIAL_CONSIDERATIONS_N  \\\n",
       "0                0                  0                         1   \n",
       "1                0                  0                         1   \n",
       "2                0                  0                         1   \n",
       "3                0                  0                         1   \n",
       "4                0                  0                         1   \n",
       "\n",
       "   SPECIAL_CONSIDERATIONS_Y  \n",
       "0                         0  \n",
       "1                         0  \n",
       "2                         0  \n",
       "3                         0  \n",
       "4                         0  \n",
       "\n",
       "[5 rows x 19613 columns]"
      ]
     },
     "execution_count": 10,
     "metadata": {},
     "output_type": "execute_result"
    }
   ],
   "source": [
    "\n",
    "# Create a StandardScaler instances\n",
    "scaler = StandardScaler()\n",
    "\n",
    "# Fit the StandardScaler\n",
    "X_scaler = scaler.fit(X_train)\n",
    "\n",
    "# Scale the data\n",
    "X_train_scaled = X_scaler.transform(X_train)\n",
    "X_test_scaled = X_scaler.transform(X_test)"
   ]
  },
  {
   "cell_type": "markdown",
   "metadata": {},
   "source": [
    "## Compile, Train and Evaluate the Model"
   ]
  },
  {
   "cell_type": "code",
   "execution_count": 14,
   "metadata": {},
   "outputs": [
    {
     "name": "stdout",
     "output_type": "stream",
     "text": [
      "Model: \"sequential\"\n",
      "_________________________________________________________________\n",
      " Layer (type)                Output Shape              Param #   \n",
      "=================================================================\n",
      " dense (Dense)               (None, 80)                1569040   \n",
      "                                                                 \n",
      " dense_1 (Dense)             (None, 30)                2430      \n",
      "                                                                 \n",
      " dense_2 (Dense)             (None, 30)                930       \n",
      "                                                                 \n",
      " dense_3 (Dense)             (None, 1)                 31        \n",
      "                                                                 \n",
      "=================================================================\n",
      "Total params: 1,572,431\n",
      "Trainable params: 1,572,431\n",
      "Non-trainable params: 0\n",
      "_________________________________________________________________\n"
     ]
    }
   ],
   "source": [
    "# Define the model - deep neural net, i.e., the number of input features and hidden nodes for each layer.\n",
    "\n",
    "nn = tf.keras.models.Sequential()\n",
    "\n",
    "# First hidden layer\n",
    "\n",
    "nn.add(tf.keras.layers.Dense(units=6, activation=\"relu\", input_dim=43))\n",
    "\n",
    "# Second hidden layer\n",
    "\n",
    "nn.add(tf.keras.layers.Dense(units=6, activation=\"relu\"))\n",
    "\n",
    "# Output layer\n",
    "\n",
    "nn.add(tf.keras.layers.Dense(units=1, activation=\"sigmoid\"))\n",
    "\n",
    "# Check the structure of the model\n",
    "nn.summary()"
   ]
  },
  {
   "cell_type": "code",
   "execution_count": 15,
   "metadata": {},
   "outputs": [],
   "source": [
    "# Compile the model\n",
    "nn.compile(loss=\"binary_crossentropy\", optimizer=\"adam\", metrics=[\"accuracy\"])"
   ]
  },
  {
   "cell_type": "code",
   "execution_count": 16,
   "metadata": {},
   "outputs": [
    {
     "name": "stdout",
     "output_type": "stream",
     "text": [
      "WARNING:tensorflow:`period` argument is deprecated. Please use `save_freq` to specify the frequency in number of batches seen.\n"
     ]
    }
   ],
   "source": [
    "# Train the model\n",
    "fit_model = nn.fit(X_train_scaled, y_train, epochs=20)"
   ]
  },
  {
   "cell_type": "code",
   "execution_count": 17,
   "metadata": {},
   "outputs": [
    {
     "name": "stdout",
     "output_type": "stream",
     "text": [
      "Epoch 1/50\n",
      "804/804 [==============================] - 8s 9ms/step - loss: 0.4699 - accuracy: 0.7766\n",
      "Epoch 2/50\n",
      "804/804 [==============================] - 7s 9ms/step - loss: 0.1370 - accuracy: 0.9502\n",
      "Epoch 3/50\n",
      "804/804 [==============================] - 7s 9ms/step - loss: 0.0957 - accuracy: 0.9616\n",
      "Epoch 4/50\n",
      "804/804 [==============================] - 7s 9ms/step - loss: 0.0919 - accuracy: 0.9624\n",
      "Epoch 5/50\n",
      "802/804 [============================>.] - ETA: 0s - loss: 0.0909 - accuracy: 0.9616\n",
      "Epoch 5: saving model to checkpoints\\weights.5.hdf5\n",
      "804/804 [==============================] - 7s 9ms/step - loss: 0.0909 - accuracy: 0.9616\n",
      "Epoch 6/50\n",
      "804/804 [==============================] - 7s 9ms/step - loss: 0.0896 - accuracy: 0.9630\n",
      "Epoch 7/50\n",
      "804/804 [==============================] - 7s 9ms/step - loss: 0.0892 - accuracy: 0.9631\n",
      "Epoch 8/50\n",
      "804/804 [==============================] - 7s 9ms/step - loss: 0.0886 - accuracy: 0.9623\n",
      "Epoch 9/50\n",
      "804/804 [==============================] - 7s 9ms/step - loss: 0.0879 - accuracy: 0.9633\n",
      "Epoch 10/50\n",
      "804/804 [==============================] - ETA: 0s - loss: 0.0874 - accuracy: 0.9638\n",
      "Epoch 10: saving model to checkpoints\\weights.10.hdf5\n",
      "804/804 [==============================] - 8s 9ms/step - loss: 0.0874 - accuracy: 0.9638\n",
      "Epoch 11/50\n",
      "804/804 [==============================] - 7s 9ms/step - loss: 0.0873 - accuracy: 0.9638\n",
      "Epoch 12/50\n",
      "804/804 [==============================] - 7s 9ms/step - loss: 0.0865 - accuracy: 0.9638\n",
      "Epoch 13/50\n",
      "804/804 [==============================] - 7s 9ms/step - loss: 0.0862 - accuracy: 0.9642\n",
      "Epoch 14/50\n",
      "804/804 [==============================] - 7s 9ms/step - loss: 0.0855 - accuracy: 0.9642\n",
      "Epoch 15/50\n",
      "802/804 [============================>.] - ETA: 0s - loss: 0.0848 - accuracy: 0.9647\n",
      "Epoch 15: saving model to checkpoints\\weights.15.hdf5\n",
      "804/804 [==============================] - 7s 9ms/step - loss: 0.0848 - accuracy: 0.9648\n",
      "Epoch 16/50\n",
      "804/804 [==============================] - 7s 9ms/step - loss: 0.0844 - accuracy: 0.9649\n",
      "Epoch 17/50\n",
      "804/804 [==============================] - 7s 9ms/step - loss: 0.0838 - accuracy: 0.9650\n",
      "Epoch 18/50\n",
      "804/804 [==============================] - 7s 9ms/step - loss: 0.0836 - accuracy: 0.9654\n",
      "Epoch 19/50\n",
      "804/804 [==============================] - 7s 9ms/step - loss: 0.0829 - accuracy: 0.9656\n",
      "Epoch 20/50\n",
      "804/804 [==============================] - ETA: 0s - loss: 0.0825 - accuracy: 0.9651\n",
      "Epoch 20: saving model to checkpoints\\weights.20.hdf5\n",
      "804/804 [==============================] - 7s 9ms/step - loss: 0.0825 - accuracy: 0.9651\n",
      "Epoch 21/50\n",
      "804/804 [==============================] - 7s 9ms/step - loss: 0.0826 - accuracy: 0.9660\n",
      "Epoch 22/50\n",
      "804/804 [==============================] - 7s 9ms/step - loss: 0.0821 - accuracy: 0.9660\n",
      "Epoch 23/50\n",
      "804/804 [==============================] - 7s 9ms/step - loss: 0.0815 - accuracy: 0.9661\n",
      "Epoch 24/50\n",
      "804/804 [==============================] - 7s 9ms/step - loss: 0.0813 - accuracy: 0.9664\n",
      "Epoch 25/50\n",
      "799/804 [============================>.] - ETA: 0s - loss: 0.0802 - accuracy: 0.9666\n",
      "Epoch 25: saving model to checkpoints\\weights.25.hdf5\n",
      "804/804 [==============================] - 7s 9ms/step - loss: 0.0805 - accuracy: 0.9666\n",
      "Epoch 26/50\n",
      "804/804 [==============================] - 7s 9ms/step - loss: 0.0806 - accuracy: 0.9664\n",
      "Epoch 27/50\n",
      "804/804 [==============================] - 7s 9ms/step - loss: 0.0802 - accuracy: 0.9668\n",
      "Epoch 28/50\n",
      "804/804 [==============================] - 7s 9ms/step - loss: 0.0799 - accuracy: 0.9674\n",
      "Epoch 29/50\n",
      "804/804 [==============================] - 7s 9ms/step - loss: 0.0793 - accuracy: 0.9671\n",
      "Epoch 30/50\n",
      "799/804 [============================>.] - ETA: 0s - loss: 0.0789 - accuracy: 0.9672\n",
      "Epoch 30: saving model to checkpoints\\weights.30.hdf5\n",
      "804/804 [==============================] - 7s 9ms/step - loss: 0.0789 - accuracy: 0.9673\n",
      "Epoch 31/50\n",
      "804/804 [==============================] - 7s 9ms/step - loss: 0.0792 - accuracy: 0.9670\n",
      "Epoch 32/50\n",
      "804/804 [==============================] - 7s 9ms/step - loss: 0.0782 - accuracy: 0.9678\n",
      "Epoch 33/50\n",
      "804/804 [==============================] - 7s 9ms/step - loss: 0.0780 - accuracy: 0.9677\n",
      "Epoch 34/50\n",
      "804/804 [==============================] - 7s 9ms/step - loss: 0.0772 - accuracy: 0.9680\n",
      "Epoch 35/50\n",
      "802/804 [============================>.] - ETA: 0s - loss: 0.0772 - accuracy: 0.9684\n",
      "Epoch 35: saving model to checkpoints\\weights.35.hdf5\n",
      "804/804 [==============================] - 7s 9ms/step - loss: 0.0772 - accuracy: 0.9685\n",
      "Epoch 36/50\n",
      "804/804 [==============================] - 7s 9ms/step - loss: 0.0769 - accuracy: 0.9686\n",
      "Epoch 37/50\n",
      "804/804 [==============================] - 7s 9ms/step - loss: 0.0768 - accuracy: 0.9682\n",
      "Epoch 38/50\n",
      "804/804 [==============================] - 7s 9ms/step - loss: 0.0764 - accuracy: 0.9679\n",
      "Epoch 39/50\n",
      "804/804 [==============================] - 7s 9ms/step - loss: 0.0762 - accuracy: 0.9682\n",
      "Epoch 40/50\n",
      "803/804 [============================>.] - ETA: 0s - loss: 0.0759 - accuracy: 0.9684\n",
      "Epoch 40: saving model to checkpoints\\weights.40.hdf5\n",
      "804/804 [==============================] - 7s 9ms/step - loss: 0.0759 - accuracy: 0.9685\n",
      "Epoch 41/50\n",
      "804/804 [==============================] - 7s 9ms/step - loss: 0.0759 - accuracy: 0.9682\n",
      "Epoch 42/50\n",
      "804/804 [==============================] - 7s 9ms/step - loss: 0.0751 - accuracy: 0.9682\n",
      "Epoch 43/50\n",
      "804/804 [==============================] - 7s 9ms/step - loss: 0.0752 - accuracy: 0.9684\n",
      "Epoch 44/50\n",
      "804/804 [==============================] - 7s 9ms/step - loss: 0.0749 - accuracy: 0.9691\n",
      "Epoch 45/50\n",
      "802/804 [============================>.] - ETA: 0s - loss: 0.0750 - accuracy: 0.9684\n",
      "Epoch 45: saving model to checkpoints\\weights.45.hdf5\n",
      "804/804 [==============================] - 7s 9ms/step - loss: 0.0749 - accuracy: 0.9685\n",
      "Epoch 46/50\n",
      "804/804 [==============================] - 7s 9ms/step - loss: 0.0748 - accuracy: 0.9689\n",
      "Epoch 47/50\n",
      "804/804 [==============================] - 7s 9ms/step - loss: 0.0743 - accuracy: 0.9689\n",
      "Epoch 48/50\n",
      "804/804 [==============================] - 7s 9ms/step - loss: 0.0739 - accuracy: 0.9690\n",
      "Epoch 49/50\n",
      "804/804 [==============================] - 7s 9ms/step - loss: 0.0739 - accuracy: 0.9692\n",
      "Epoch 50/50\n",
      "799/804 [============================>.] - ETA: 0s - loss: 0.0737 - accuracy: 0.9698\n",
      "Epoch 50: saving model to checkpoints\\weights.50.hdf5\n",
      "804/804 [==============================] - 7s 9ms/step - loss: 0.0738 - accuracy: 0.9697\n"
     ]
    }
   ],
   "source": [
    "# Train the model\n",
    "fit_model_1 = nn_model_1.fit(X_train_scaled, y_train, epochs=50,callbacks=[cp_callback])"
   ]
  },
  {
   "cell_type": "code",
   "execution_count": 18,
   "metadata": {},
   "outputs": [
    {
     "name": "stdout",
     "output_type": "stream",
     "text": [
      "268/268 - 1s - loss: 0.6684 - accuracy: 0.7521 - 1s/epoch - 4ms/step\n",
      "Loss: 0.6683794856071472, Accuracy: 0.7520699501037598\n"
     ]
    }
   ],
   "source": [
    "# Evaluate the 1st model using the test data\n",
    "model_loss, model_accuracy = nn_model_1.evaluate(X_test_scaled,y_test,verbose=2)\n",
    "print(f'Loss: {model_loss}, Accuracy: {model_accuracy}')"
   ]
  },
  {
   "cell_type": "code",
   "execution_count": 19,
   "metadata": {},
   "outputs": [
    {
     "data": {
      "text/plain": [
       "<AxesSubplot:>"
      ]
     },
     "execution_count": 19,
     "metadata": {},
     "output_type": "execute_result"
    },
    {
     "data": {
      "image/png": "[encoded data removed]",
      "text/plain": [
       "<Figure size 432x288 with 1 Axes>"
      ]
     },
     "metadata": {
      "needs_background": "light"
     },
     "output_type": "display_data"
    },
    {
     "data": {
      "image/png": "[encoded data removed]",
      "text/plain": [
       "<Figure size 432x288 with 1 Axes>"
      ]
     },
     "metadata": {
      "needs_background": "light"
     },
     "output_type": "display_data"
    }
   ],
   "source": [
    "# Create a DataFrame containing training history of the 1st model\n",
    "history_df = pd.DataFrame(fit_model_1.history)\n",
    "\n",
    "# Increase the index by 1 to match the number of epochs\n",
    "history_df.index += 1\n",
    "\n",
    "# Plot the loss\n",
    "history_df.plot(y='loss')\n",
    "\n",
    "# Plot the accuracy\n",
    "history_df.plot(y='accuracy')"
   ]
  },
  {
   "cell_type": "code",
   "execution_count": 20,
   "metadata": {},
   "outputs": [],
   "source": [
    "nn_model_1.save('../h5_files/AlphabetSoupCharity_model_1.h5')"
   ]
  },
  {
   "cell_type": "code",
   "execution_count": 21,
   "metadata": {},
   "outputs": [
    {
     "name": "stdout",
     "output_type": "stream",
     "text": [
      "Model: \"sequential_1\"\n",
      "_________________________________________________________________\n",
      " Layer (type)                Output Shape              Param #   \n",
      "=================================================================\n",
      " dense_4 (Dense)             (None, 90)                1765170   \n",
      "                                                                 \n",
      " dense_5 (Dense)             (None, 30)                2730      \n",
      "                                                                 \n",
      " dense_6 (Dense)             (None, 20)                620       \n",
      "                                                                 \n",
      " dense_7 (Dense)             (None, 1)                 21        \n",
      "                                                                 \n",
      "=================================================================\n",
      "Total params: 1,768,541\n",
      "Trainable params: 1,768,541\n",
      "Non-trainable params: 0\n",
      "_________________________________________________________________\n"
     ]
    }
   ],
   "source": [
    "# Define the 2nd model - deep neural net, i.e., the number of input features and hidden nodes for each layer.\n",
    "input_features = X_train_scaled.shape[1]\n",
    "# X shape/ input feature/columns is 43 * 2 is 86 so chose 80 for the first hidden node\n",
    "hidden_node1 = 90\n",
    "hidden_node2 = 30\n",
    "# Add a third hidden layer\n",
    "hidden_node3 = 20\n",
    "\n",
    "nn_model_2 = tf.keras.models.Sequential()\n",
    "\n",
    "# First hidden layer\n",
    "nn_model_2.add(tf.keras.layers.Dense(units=hidden_node1, activation='tanh', input_dim=input_features,))\n",
    "\n",
    "# Second hidden layer\n",
    "nn_model_2.add(tf.keras.layers.Dense(units=hidden_node2, activation='tanh'))\n",
    "\n",
    "# Third hidden layer\n",
    "nn_model_2.add(tf.keras.layers.Dense(units=hidden_node3, activation='tanh'))\n",
    "\n",
    "\n",
    "# Output layer (output is 1 and sigmoid because it's binary classifier)\n",
    "nn_model_2.add(tf.keras.layers.Dense(units=1, activation='sigmoid'))\n",
    "\n",
    "# Check the structure of the model\n",
    "nn_model_2.summary()"
   ]
  },
  {
   "cell_type": "code",
   "execution_count": 22,
   "metadata": {},
   "outputs": [],
   "source": [
    "# Compile the  2nd model\n",
    "nn_model_2.compile(loss='binary_crossentropy', optimizer='adam', metrics=['accuracy'])"
   ]
  },
  {
   "cell_type": "code",
   "execution_count": 23,
   "metadata": {},
   "outputs": [
    {
     "name": "stdout",
     "output_type": "stream",
     "text": [
      "Epoch 1/50\n",
      "804/804 [==============================] - 8s 9ms/step - loss: 0.5017 - accuracy: 0.7521\n",
      "Epoch 2/50\n",
      "804/804 [==============================] - 7s 9ms/step - loss: 0.1744 - accuracy: 0.9386\n",
      "Epoch 3/50\n",
      "804/804 [==============================] - 8s 9ms/step - loss: 0.1029 - accuracy: 0.9614\n",
      "Epoch 4/50\n",
      "804/804 [==============================] - 8s 9ms/step - loss: 0.0943 - accuracy: 0.9625\n",
      "Epoch 5/50\n",
      "802/804 [============================>.] - ETA: 0s - loss: 0.0911 - accuracy: 0.9628\n",
      "Epoch 5: saving model to checkpoints\\weights.5.hdf5\n",
      "804/804 [==============================] - 8s 9ms/step - loss: 0.0911 - accuracy: 0.9628\n",
      "Epoch 6/50\n",
      "804/804 [==============================] - 7s 9ms/step - loss: 0.0891 - accuracy: 0.9629\n",
      "Epoch 7/50\n",
      "804/804 [==============================] - 7s 9ms/step - loss: 0.0876 - accuracy: 0.9637\n",
      "Epoch 8/50\n",
      "804/804 [==============================] - 7s 9ms/step - loss: 0.0869 - accuracy: 0.9644\n",
      "Epoch 9/50\n",
      "804/804 [==============================] - 7s 9ms/step - loss: 0.0864 - accuracy: 0.9640\n",
      "Epoch 10/50\n",
      "801/804 [============================>.] - ETA: 0s - loss: 0.0858 - accuracy: 0.9644\n",
      "Epoch 10: saving model to checkpoints\\weights.10.hdf5\n",
      "804/804 [==============================] - 8s 9ms/step - loss: 0.0858 - accuracy: 0.9644\n",
      "Epoch 11/50\n",
      "804/804 [==============================] - 8s 9ms/step - loss: 0.0845 - accuracy: 0.9647\n",
      "Epoch 12/50\n",
      "804/804 [==============================] - 8s 9ms/step - loss: 0.0841 - accuracy: 0.9652\n",
      "Epoch 13/50\n",
      "804/804 [==============================] - 7s 9ms/step - loss: 0.0843 - accuracy: 0.9646\n",
      "Epoch 14/50\n",
      "804/804 [==============================] - 7s 9ms/step - loss: 0.0836 - accuracy: 0.9646\n",
      "Epoch 15/50\n",
      "801/804 [============================>.] - ETA: 0s - loss: 0.0825 - accuracy: 0.9652\n",
      "Epoch 15: saving model to checkpoints\\weights.15.hdf5\n",
      "804/804 [==============================] - 7s 9ms/step - loss: 0.0827 - accuracy: 0.9651\n",
      "Epoch 16/50\n",
      "804/804 [==============================] - 7s 9ms/step - loss: 0.0826 - accuracy: 0.9653\n",
      "Epoch 17/50\n",
      "804/804 [==============================] - 7s 9ms/step - loss: 0.0818 - accuracy: 0.9665\n",
      "Epoch 18/50\n",
      "804/804 [==============================] - 8s 9ms/step - loss: 0.0815 - accuracy: 0.9655\n",
      "Epoch 19/50\n",
      "804/804 [==============================] - 8s 9ms/step - loss: 0.0811 - accuracy: 0.9656\n",
      "Epoch 20/50\n",
      "802/804 [============================>.] - ETA: 0s - loss: 0.0804 - accuracy: 0.9666\n",
      "Epoch 20: saving model to checkpoints\\weights.20.hdf5\n",
      "804/804 [==============================] - 7s 9ms/step - loss: 0.0806 - accuracy: 0.9665\n",
      "Epoch 21/50\n",
      "804/804 [==============================] - 7s 9ms/step - loss: 0.0796 - accuracy: 0.9664\n",
      "Epoch 22/50\n",
      "804/804 [==============================] - 8s 9ms/step - loss: 0.0798 - accuracy: 0.9666\n",
      "Epoch 23/50\n",
      "804/804 [==============================] - 7s 9ms/step - loss: 0.0790 - accuracy: 0.9674\n",
      "Epoch 24/50\n",
      "804/804 [==============================] - 8s 9ms/step - loss: 0.0787 - accuracy: 0.9671\n",
      "Epoch 25/50\n",
      "800/804 [============================>.] - ETA: 0s - loss: 0.0781 - accuracy: 0.9677\n",
      "Epoch 25: saving model to checkpoints\\weights.25.hdf5\n",
      "804/804 [==============================] - 7s 9ms/step - loss: 0.0783 - accuracy: 0.9676\n",
      "Epoch 26/50\n",
      "804/804 [==============================] - 7s 9ms/step - loss: 0.0783 - accuracy: 0.9673\n",
      "Epoch 27/50\n",
      "804/804 [==============================] - 7s 9ms/step - loss: 0.0772 - accuracy: 0.9680\n",
      "Epoch 28/50\n",
      "804/804 [==============================] - 7s 9ms/step - loss: 0.0769 - accuracy: 0.9679\n",
      "Epoch 29/50\n",
      "804/804 [==============================] - 7s 9ms/step - loss: 0.0767 - accuracy: 0.9684\n",
      "Epoch 30/50\n",
      "799/804 [============================>.] - ETA: 0s - loss: 0.0766 - accuracy: 0.9686\n",
      "Epoch 30: saving model to checkpoints\\weights.30.hdf5\n",
      "804/804 [==============================] - 7s 9ms/step - loss: 0.0764 - accuracy: 0.9687\n",
      "Epoch 31/50\n",
      "804/804 [==============================] - 8s 9ms/step - loss: 0.0759 - accuracy: 0.9685\n",
      "Epoch 32/50\n",
      "804/804 [==============================] - 8s 9ms/step - loss: 0.0756 - accuracy: 0.9685\n",
      "Epoch 33/50\n",
      "804/804 [==============================] - 7s 9ms/step - loss: 0.0757 - accuracy: 0.9689\n",
      "Epoch 34/50\n",
      "804/804 [==============================] - 7s 9ms/step - loss: 0.0756 - accuracy: 0.9692\n",
      "Epoch 35/50\n",
      "800/804 [============================>.] - ETA: 0s - loss: 0.0744 - accuracy: 0.9693\n",
      "Epoch 35: saving model to checkpoints\\weights.35.hdf5\n",
      "804/804 [==============================] - 7s 9ms/step - loss: 0.0744 - accuracy: 0.9692\n",
      "Epoch 36/50\n",
      "804/804 [==============================] - 7s 9ms/step - loss: 0.0745 - accuracy: 0.9691\n",
      "Epoch 37/50\n",
      "804/804 [==============================] - 7s 9ms/step - loss: 0.0744 - accuracy: 0.9687\n",
      "Epoch 38/50\n",
      "804/804 [==============================] - 7s 9ms/step - loss: 0.0741 - accuracy: 0.9697\n",
      "Epoch 39/50\n",
      "804/804 [==============================] - 7s 9ms/step - loss: 0.0733 - accuracy: 0.9699\n",
      "Epoch 40/50\n",
      "801/804 [============================>.] - ETA: 0s - loss: 0.0734 - accuracy: 0.9688\n",
      "Epoch 40: saving model to checkpoints\\weights.40.hdf5\n",
      "804/804 [==============================] - 8s 9ms/step - loss: 0.0734 - accuracy: 0.9688\n",
      "Epoch 41/50\n",
      "804/804 [==============================] - 7s 9ms/step - loss: 0.0732 - accuracy: 0.9701\n",
      "Epoch 42/50\n",
      "804/804 [==============================] - 7s 9ms/step - loss: 0.0732 - accuracy: 0.9701\n",
      "Epoch 43/50\n",
      "804/804 [==============================] - 7s 9ms/step - loss: 0.0723 - accuracy: 0.9701\n",
      "Epoch 44/50\n",
      "804/804 [==============================] - 8s 9ms/step - loss: 0.0726 - accuracy: 0.9707\n",
      "Epoch 45/50\n",
      "804/804 [==============================] - ETA: 0s - loss: 0.0724 - accuracy: 0.9700\n",
      "Epoch 45: saving model to checkpoints\\weights.45.hdf5\n",
      "804/804 [==============================] - 8s 10ms/step - loss: 0.0724 - accuracy: 0.9700\n",
      "Epoch 46/50\n",
      "804/804 [==============================] - 7s 9ms/step - loss: 0.0721 - accuracy: 0.9705\n",
      "Epoch 47/50\n",
      "804/804 [==============================] - 8s 10ms/step - loss: 0.0717 - accuracy: 0.9708\n",
      "Epoch 48/50\n",
      "804/804 [==============================] - 8s 10ms/step - loss: 0.0721 - accuracy: 0.9707\n",
      "Epoch 49/50\n",
      "804/804 [==============================] - 8s 9ms/step - loss: 0.0712 - accuracy: 0.9706\n",
      "Epoch 50/50\n",
      "799/804 [============================>.] - ETA: 0s - loss: 0.0715 - accuracy: 0.9706\n",
      "Epoch 50: saving model to checkpoints\\weights.50.hdf5\n",
      "804/804 [==============================] - 8s 10ms/step - loss: 0.0714 - accuracy: 0.9706\n"
     ]
    }
   ],
   "source": [
    "# Train the 2nd model\n",
    "fit_model_2 = nn_model_2.fit(X_train_scaled, y_train, epochs=50,callbacks=[cp_callback])"
   ]
  },
  {
   "cell_type": "code",
   "execution_count": 24,
   "metadata": {},
   "outputs": [
    {
     "name": "stdout",
     "output_type": "stream",
     "text": [
      "268/268 - 1s - loss: 0.6326 - accuracy: 0.6596 - 1s/epoch - 4ms/step\n",
      "Loss: 0.6326394081115723, Accuracy: 0.6595918536186218\n"
     ]
    }
   ],
   "source": [
    "# Evaluate the 2nd model using the test data\n",
    "model_loss, model_accuracy = nn_model_2.evaluate(X_test_scaled,y_test,verbose=2)\n",
    "print(f'Loss: {model_loss}, Accuracy: {model_accuracy}')"
   ]
  },
  {
   "cell_type": "code",
   "execution_count": 25,
   "metadata": {},
   "outputs": [
    {
     "data": {
      "text/plain": [
       "<AxesSubplot:>"
      ]
     },
     "execution_count": 25,
     "metadata": {},
     "output_type": "execute_result"
    },
    {
     "data": {
      "image/png": "[encoded data removed]",
      "text/plain": [
       "<Figure size 432x288 with 1 Axes>"
      ]
     },
     "metadata": {
      "needs_background": "light"
     },
     "output_type": "display_data"
    },
    {
     "data": {
      "image/png": "[encoded data removed]",
      "text/plain": [
       "<Figure size 432x288 with 1 Axes>"
      ]
     },
     "metadata": {
      "needs_background": "light"
     },
     "output_type": "display_data"
    }
   ],
   "source": [
    "# Create a DataFrame containing training history of the 2nd model\n",
    "history_df = pd.DataFrame(fit_model_2.history)\n",
    "\n",
    "# Increase the index by 1 to match the number of epochs\n",
    "history_df.index += 1\n",
    "\n",
    "# Plot the loss\n",
    "history_df.plot(y='loss')\n",
    "\n",
    "# Plot the accuracy\n",
    "history_df.plot(y='accuracy')"
   ]
  },
  {
   "cell_type": "code",
   "execution_count": 27,
   "metadata": {},
   "outputs": [],
   "source": [
    "# Save the 2nd model\n",
    "nn_model_2.save('AlphabetSoupCharity.h5')"
   ]
  },
  {
   "cell_type": "code",
   "execution_count": null,
   "metadata": {},
   "outputs": [],
   "source": []
  }
 ],
 "metadata": {
  "kernelspec": {
   "display_name": "Python 3 (ipykernel)",
   "language": "python",
   "name": "python3"
  },
  "language_info": {
   "codemirror_mode": {
    "name": "ipython",
    "version": 3
   },
   "file_extension": ".py",
   "mimetype": "text/x-python",
   "name": "python",
   "nbconvert_exporter": "python",
   "pygments_lexer": "ipython3",
   "version": "3.9.12"
  }
 },
 "nbformat": 4,
 "nbformat_minor": 4
}
